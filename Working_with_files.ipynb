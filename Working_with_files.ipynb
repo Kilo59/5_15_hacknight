{
 "cells": [
  {
   "cell_type": "code",
   "execution_count": 1,
   "metadata": {},
   "outputs": [],
   "source": [
    "import os\n",
    "from pprint import pprint as pp"
   ]
  },
  {
   "cell_type": "code",
   "execution_count": 2,
   "metadata": {},
   "outputs": [],
   "source": [
    "os.chdir('text_files')"
   ]
  },
  {
   "cell_type": "code",
   "execution_count": 3,
   "metadata": {},
   "outputs": [],
   "source": [
    "def get_files():\n",
    "    \"\"\"Returns a list of all files in the current working directory.\"\"\"\n",
    "    return [x for x in os.listdir() if os.path.isfile(x)]"
   ]
  },
  {
   "cell_type": "code",
   "execution_count": 4,
   "metadata": {},
   "outputs": [
    {
     "data": {
      "text/plain": [
       "['Output', 'Description', 'shoe1.txt', 'shoe2.txt', 'shoe3.txt']"
      ]
     },
     "execution_count": 4,
     "metadata": {},
     "output_type": "execute_result"
    }
   ],
   "source": [
    "get_files()"
   ]
  },
  {
   "cell_type": "code",
   "execution_count": 5,
   "metadata": {},
   "outputs": [
    {
     "data": {
      "text/plain": [
       "['shoe1.txt', 'shoe2.txt', 'shoe3.txt']"
      ]
     },
     "execution_count": 5,
     "metadata": {},
     "output_type": "execute_result"
    }
   ],
   "source": [
    "files = [f for f in get_files() if f[-3:] == 'txt']\n",
    "files"
   ]
  },
  {
   "cell_type": "code",
   "execution_count": 6,
   "metadata": {},
   "outputs": [
    {
     "name": "stdout",
     "output_type": "stream",
     "text": [
      "{'shoe1': {'Features': '',\n",
      "           'Heel_Height': '',\n",
      "           'Heel_Style': '',\n",
      "           'Material': '',\n",
      "           'Toe_Style': '',\n",
      "           'lines': 0},\n",
      " 'shoe2': {'Features': '',\n",
      "           'Heel_Height': '',\n",
      "           'Heel_Style': '',\n",
      "           'Material': '',\n",
      "           'Toe_Style': '',\n",
      "           'lines': 0},\n",
      " 'shoe3': {'Features': '',\n",
      "           'Heel_Height': '',\n",
      "           'Heel_Style': '',\n",
      "           'Material': '',\n",
      "           'Toe_Style': '',\n",
      "           'lines': 0}}\n"
     ]
    }
   ],
   "source": [
    "xtra_credit = {'1\" heel': 'Low Heel',\n",
    "               '1.5\" heel': 'Low Heel',\n",
    "               '2\" heel': 'Mid Heel',\n",
    "               '3\" heel': 'Mid Heel',\n",
    "               '4\" heel': 'High Heel'}\n",
    "shoe_dict = {\n",
    "    'shoe1': {'lines': 0,\n",
    "              'Heel_Style': '',\n",
    "              'Toe_Style': '',\n",
    "              'Material': '',\n",
    "              'Features': '',\n",
    "              'Heel_Height': ''},\n",
    "    'shoe2': {'lines': 0,\n",
    "              'Heel_Style': '',\n",
    "              'Toe_Style': '',\n",
    "              'Material': '',\n",
    "              'Features': '',\n",
    "             'Heel_Height': ''},\n",
    "    'shoe3': {'lines': 0,\n",
    "              'Heel_Style': '',\n",
    "              'Toe_Style': '',\n",
    "              'Material': '',\n",
    "              'Features': '',\n",
    "              'Heel_Height': ''}\n",
    "            }\n",
    "pp(shoe_dict)"
   ]
  },
  {
   "cell_type": "code",
   "execution_count": 7,
   "metadata": {},
   "outputs": [],
   "source": [
    "for shoe in shoe_dict.keys():\n",
    "    with open(f'{shoe}.txt', 'r') as f_in:\n",
    "        shoe_dict[shoe] = {'lines': [x.strip('\\n- ') for x in f_in.readlines()]}"
   ]
  },
  {
   "cell_type": "code",
   "execution_count": 8,
   "metadata": {},
   "outputs": [
    {
     "data": {
      "text/plain": [
       "{'shoe1': {'lines': ['Details',\n",
       "   'Sizing: True to size.',\n",
       "   '',\n",
       "   'Peep toe',\n",
       "   'Back zip closure',\n",
       "   'Caged construction',\n",
       "   'Stiletto heel',\n",
       "   'Approx. 4\" heel',\n",
       "   'Imported',\n",
       "   'Materials',\n",
       "   'Synthetic upper, PU sole']},\n",
       " 'shoe2': {'lines': ['Sizing: True to size. M=standard width',\n",
       "   '',\n",
       "   'Open toe',\n",
       "   'Faux suede fabric construction',\n",
       "   'Ankle cuff with elastic inset',\n",
       "   'Back zip closure with tassel pull',\n",
       "   'Lightly padded footbed',\n",
       "   'Block heel',\n",
       "   'Approx. 1.5\" heel',\n",
       "   'Imported',\n",
       "   'Materials',\n",
       "   'Fabric upper, synthetic sole']},\n",
       " 'shoe3': {'lines': ['Open toe',\n",
       "   'Studded detail',\n",
       "   'Slip-on',\n",
       "   'Lightly padded footbed',\n",
       "   'Cone heel',\n",
       "   'Approx. 3\" heel',\n",
       "   'Imported',\n",
       "   'Materials',\n",
       "   'Faux suede upper, manmade sole']}}"
      ]
     },
     "execution_count": 8,
     "metadata": {},
     "output_type": "execute_result"
    }
   ],
   "source": [
    "shoe_dict"
   ]
  },
  {
   "cell_type": "code",
   "execution_count": 23,
   "metadata": {},
   "outputs": [
    {
     "name": "stdout",
     "output_type": "stream",
     "text": [
      "Approx. 4\" heel\n",
      "4\" heel\n",
      "Approx. 1.5\" heel\n",
      "1.5\" heel\n",
      "Approx. 3\" heel\n",
      "3\" heel\n"
     ]
    }
   ],
   "source": [
    "for shoe in shoe_dict.keys(): \n",
    "    for line in shoe_dict[shoe]['lines']:\n",
    "        if '\" heel' in line:\n",
    "                print(line)\n",
    "                heel_ht = line.split('.', maxsplit=1)[1].strip()\n",
    "                print(heel_ht)\n",
    "                shoe_dict[shoe]['Heel_Height'] = xtra_credit[heel_ht]"
   ]
  },
  {
   "cell_type": "code",
   "execution_count": 25,
   "metadata": {},
   "outputs": [
    {
     "name": "stdout",
     "output_type": "stream",
     "text": [
      "{'shoe1': {'Heel_Height': 'High Heel',\n",
      "           'lines': ['Details',\n",
      "                     'Sizing: True to size.',\n",
      "                     '',\n",
      "                     'Peep toe',\n",
      "                     'Back zip closure',\n",
      "                     'Caged construction',\n",
      "                     'Stiletto heel',\n",
      "                     'Approx. 4\" heel',\n",
      "                     'Imported',\n",
      "                     'Materials',\n",
      "                     'Synthetic upper, PU sole']},\n",
      " 'shoe2': {'Heel_Height': 'Low Heel',\n",
      "           'lines': ['Sizing: True to size. M=standard width',\n",
      "                     '',\n",
      "                     'Open toe',\n",
      "                     'Faux suede fabric construction',\n",
      "                     'Ankle cuff with elastic inset',\n",
      "                     'Back zip closure with tassel pull',\n",
      "                     'Lightly padded footbed',\n",
      "                     'Block heel',\n",
      "                     'Approx. 1.5\" heel',\n",
      "                     'Imported',\n",
      "                     'Materials',\n",
      "                     'Fabric upper, synthetic sole']},\n",
      " 'shoe3': {'Heel_Height': 'Mid Heel',\n",
      "           'lines': ['Open toe',\n",
      "                     'Studded detail',\n",
      "                     'Slip-on',\n",
      "                     'Lightly padded footbed',\n",
      "                     'Cone heel',\n",
      "                     'Approx. 3\" heel',\n",
      "                     'Imported',\n",
      "                     'Materials',\n",
      "                     'Faux suede upper, manmade sole']}}\n"
     ]
    }
   ],
   "source": [
    "pp(shoe_dict)"
   ]
  },
  {
   "cell_type": "code",
   "execution_count": null,
   "metadata": {},
   "outputs": [],
   "source": []
  }
 ],
 "metadata": {
  "kernelspec": {
   "display_name": "Python 3",
   "language": "python",
   "name": "python3"
  },
  "language_info": {
   "codemirror_mode": {
    "name": "ipython",
    "version": 3
   },
   "file_extension": ".py",
   "mimetype": "text/x-python",
   "name": "python",
   "nbconvert_exporter": "python",
   "pygments_lexer": "ipython3",
   "version": "3.6.3"
  }
 },
 "nbformat": 4,
 "nbformat_minor": 2
}
