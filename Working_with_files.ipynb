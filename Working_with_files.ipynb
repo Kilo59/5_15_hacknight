{
 "cells": [
  {
   "cell_type": "code",
   "execution_count": 2,
   "metadata": {},
   "outputs": [],
   "source": [
    "import os"
   ]
  },
  {
   "cell_type": "code",
   "execution_count": 3,
   "metadata": {},
   "outputs": [],
   "source": [
    "os.chdir('text_files')"
   ]
  },
  {
   "cell_type": "code",
   "execution_count": 7,
   "metadata": {},
   "outputs": [],
   "source": [
    "def get_files():\n",
    "    \"\"\"Returns a list of all files in the current working directory.\"\"\"\n",
    "    return [x for x in os.listdir() if os.path.isfile(x)]"
   ]
  },
  {
   "cell_type": "code",
   "execution_count": 8,
   "metadata": {},
   "outputs": [
    {
     "data": {
      "text/plain": [
       "['Output', 'Description', 'shoe1.txt', 'shoe2.txt', 'shoe3.txt']"
      ]
     },
     "execution_count": 8,
     "metadata": {},
     "output_type": "execute_result"
    }
   ],
   "source": [
    "get_files()"
   ]
  },
  {
   "cell_type": "code",
   "execution_count": 12,
   "metadata": {},
   "outputs": [
    {
     "data": {
      "text/plain": [
       "['shoe1.txt', 'shoe2.txt', 'shoe3.txt']"
      ]
     },
     "execution_count": 12,
     "metadata": {},
     "output_type": "execute_result"
    }
   ],
   "source": [
    "files = [f for f in get_files() if f[-3:] == 'txt']\n",
    "files"
   ]
  },
  {
   "cell_type": "code",
   "execution_count": 21,
   "metadata": {},
   "outputs": [
    {
     "data": {
      "text/plain": [
       "{'shoe1': '', 'shoe2': '', 'shoe3': ''}"
      ]
     },
     "execution_count": 21,
     "metadata": {},
     "output_type": "execute_result"
    }
   ],
   "source": [
    "shoe_dict = {'shoe1': '',\n",
    "             'shoe2': '',\n",
    "             'shoe3': ''}\n",
    "shoe_dict"
   ]
  },
  {
   "cell_type": "code",
   "execution_count": 27,
   "metadata": {},
   "outputs": [],
   "source": [
    "for shoe in shoe_dict.keys():\n",
    "    with open(f'{shoe}.txt', 'r') as f_in:\n",
    "        shoe_dict[shoe] = {'lines': [x.strip('\\n- ') for x in f_in.readlines()]}"
   ]
  },
  {
   "cell_type": "code",
   "execution_count": 28,
   "metadata": {},
   "outputs": [
    {
     "data": {
      "text/plain": [
       "{'shoe1': {'lines': ['Details',\n",
       "   'Sizing: True to size.',\n",
       "   '',\n",
       "   'Peep toe',\n",
       "   'Back zip closure',\n",
       "   'Caged construction',\n",
       "   'Stiletto heel',\n",
       "   'Approx. 4\" heel',\n",
       "   'Imported',\n",
       "   'Materials',\n",
       "   'Synthetic upper, PU sole']},\n",
       " 'shoe2': {'lines': ['Sizing: True to size. M=standard width',\n",
       "   '',\n",
       "   'Open toe',\n",
       "   'Faux suede fabric construction',\n",
       "   'Ankle cuff with elastic inset',\n",
       "   'Back zip closure with tassel pull',\n",
       "   'Lightly padded footbed',\n",
       "   'Block heel',\n",
       "   'Approx. 1.5\" heel',\n",
       "   'Imported',\n",
       "   'Materials',\n",
       "   'Fabric upper, synthetic sole']},\n",
       " 'shoe3': {'lines': ['Open toe',\n",
       "   'Studded detail',\n",
       "   'Slip-on',\n",
       "   'Lightly padded footbed',\n",
       "   'Cone heel',\n",
       "   'Approx. 3\" heel',\n",
       "   'Imported',\n",
       "   'Materials',\n",
       "   'Faux suede upper, manmade sole']}}"
      ]
     },
     "execution_count": 28,
     "metadata": {},
     "output_type": "execute_result"
    }
   ],
   "source": [
    "shoe_dict"
   ]
  },
  {
   "cell_type": "code",
   "execution_count": 24,
   "metadata": {},
   "outputs": [
    {
     "data": {
      "text/plain": [
       "['Details\\n',\n",
       " 'Sizing: True to size.\\n',\n",
       " '\\n',\n",
       " '- Peep toe\\n',\n",
       " '- Back zip closure\\n',\n",
       " '- Caged construction\\n',\n",
       " '- Stiletto heel\\n',\n",
       " '- Approx. 4\" heel\\n',\n",
       " '- Imported\\n',\n",
       " 'Materials\\n',\n",
       " 'Synthetic upper, PU sole']"
      ]
     },
     "execution_count": 24,
     "metadata": {},
     "output_type": "execute_result"
    }
   ],
   "source": [
    "shoe_dict['shoe1']['lines']"
   ]
  },
  {
   "cell_type": "code",
   "execution_count": null,
   "metadata": {},
   "outputs": [],
   "source": []
  }
 ],
 "metadata": {
  "kernelspec": {
   "display_name": "Python 3",
   "language": "python",
   "name": "python3"
  },
  "language_info": {
   "codemirror_mode": {
    "name": "ipython",
    "version": 3
   },
   "file_extension": ".py",
   "mimetype": "text/x-python",
   "name": "python",
   "nbconvert_exporter": "python",
   "pygments_lexer": "ipython3",
   "version": "3.6.3"
  }
 },
 "nbformat": 4,
 "nbformat_minor": 2
}
