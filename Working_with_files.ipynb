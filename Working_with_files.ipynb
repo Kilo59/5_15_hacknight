{
 "cells": [
  {
   "cell_type": "code",
   "execution_count": 1,
   "metadata": {},
   "outputs": [],
   "source": [
    "import os\n",
    "from pprint import pprint as pp"
   ]
  },
  {
   "cell_type": "code",
   "execution_count": 2,
   "metadata": {},
   "outputs": [],
   "source": [
    "os.chdir('text_files')"
   ]
  },
  {
   "cell_type": "code",
   "execution_count": 3,
   "metadata": {},
   "outputs": [
    {
     "data": {
      "text/plain": [
       "['Output', 'Description', 'shoe1.txt', 'shoe2.txt', 'shoe3.txt']"
      ]
     },
     "execution_count": 3,
     "metadata": {},
     "output_type": "execute_result"
    }
   ],
   "source": [
    "def get_files():\n",
    "    \"\"\"Returns a list of all files in the current working directory.\"\"\"\n",
    "    return [x for x in os.listdir() if os.path.isfile(x)]\n",
    "get_files()"
   ]
  },
  {
   "cell_type": "code",
   "execution_count": 4,
   "metadata": {},
   "outputs": [
    {
     "data": {
      "text/plain": [
       "['shoe1', 'shoe2', 'shoe3']"
      ]
     },
     "execution_count": 4,
     "metadata": {},
     "output_type": "execute_result"
    }
   ],
   "source": [
    "files = [f for f in get_files() if f[-3:] == 'txt']\n",
    "shoe_list = [x.split('.')[0] for x in files]\n",
    "shoe_list"
   ]
  },
  {
   "cell_type": "code",
   "execution_count": 5,
   "metadata": {},
   "outputs": [
    {
     "name": "stdout",
     "output_type": "stream",
     "text": [
      "{'shoe1': ['Details',\n",
      "           'Sizing: True to size.',\n",
      "           '',\n",
      "           'Peep toe',\n",
      "           'Back zip closure',\n",
      "           'Caged construction',\n",
      "           'Stiletto heel',\n",
      "           'Approx. 4\" heel',\n",
      "           'Imported',\n",
      "           'Materials',\n",
      "           'Synthetic upper, PU sole'],\n",
      " 'shoe2': ['Sizing: True to size. M=standard width',\n",
      "           '',\n",
      "           'Open toe',\n",
      "           'Faux suede fabric construction',\n",
      "           'Ankle cuff with elastic inset',\n",
      "           'Back zip closure with tassel pull',\n",
      "           'Lightly padded footbed',\n",
      "           'Block heel',\n",
      "           'Approx. 1.5\" heel',\n",
      "           'Imported',\n",
      "           'Materials',\n",
      "           'Fabric upper, synthetic sole'],\n",
      " 'shoe3': ['Open toe',\n",
      "           'Studded detail',\n",
      "           'Slip-on',\n",
      "           'Lightly padded footbed',\n",
      "           'Cone heel',\n",
      "           'Approx. 3\" heel',\n",
      "           'Imported',\n",
      "           'Materials',\n",
      "           'Faux suede upper, manmade sole']}\n"
     ]
    }
   ],
   "source": [
    "def read_flines(filename):\n",
    "    \"\"\"Read the lines of file as a list\"\"\"\n",
    "    with open(filename, 'r') as f_in:\n",
    "        return f_in.readlines()\n",
    "\n",
    "shoe_text = {shoe: [ln.strip('\\n- ') for ln in read_flines(f'{shoe}.txt')] for shoe in shoe_list}\n",
    "pp(shoe_text)"
   ]
  },
  {
   "cell_type": "code",
   "execution_count": 6,
   "metadata": {},
   "outputs": [
    {
     "name": "stdout",
     "output_type": "stream",
     "text": [
      "{'shoe1': {'Features': None,\n",
      "           'Heel_Height': None,\n",
      "           'Heel_Style': None,\n",
      "           'Material': None,\n",
      "           'Toe_Style': None},\n",
      " 'shoe2': {'Features': None,\n",
      "           'Heel_Height': None,\n",
      "           'Heel_Style': None,\n",
      "           'Material': None,\n",
      "           'Toe_Style': None},\n",
      " 'shoe3': {'Features': None,\n",
      "           'Heel_Height': None,\n",
      "           'Heel_Style': None,\n",
      "           'Material': None,\n",
      "           'Toe_Style': None}}\n"
     ]
    }
   ],
   "source": [
    "shoe_attributes = ['Heel_Style', 'Toe_Style', 'Material', 'Features', 'Heel_Height']\n",
    "result_dict = {shoe: {attr: None for attr in shoe_attributes} for shoe in shoe_list}\n",
    "pp(result_dict)"
   ]
  },
  {
   "cell_type": "markdown",
   "metadata": {},
   "source": [
    "## Extra Credit and heel style"
   ]
  },
  {
   "cell_type": "code",
   "execution_count": 7,
   "metadata": {},
   "outputs": [
    {
     "name": "stdout",
     "output_type": "stream",
     "text": [
      "Approx. 4\" heel\n",
      "4\" heel\n",
      "Approx. 1.5\" heel\n",
      "1.5\" heel\n",
      "Approx. 3\" heel\n",
      "3\" heel\n"
     ]
    }
   ],
   "source": [
    "xtcrd_mapping = {'1\" heel': 'Low Heel',\n",
    "                     '1.5\" heel': 'Low Heel',\n",
    "                     '2\" heel': 'Mid Heel',\n",
    "                     '3\" heel': 'Mid Heel',\n",
    "                     '4\" heel': 'High Heel'}\n",
    "for shoe in shoe_list: \n",
    "    for line in shoe_text[shoe]:\n",
    "        if '\" heel' in line:\n",
    "                print(line)\n",
    "                heel_ht = line.split('.', maxsplit=1)[1].strip()\n",
    "                print(heel_ht)\n",
    "                result_dict[shoe]['Heel_Height'] = xtcrd_mapping[heel_ht]\n",
    "        elif 'heel' in line:\n",
    "            heel_style = line.split('heel')[0].strip()\n",
    "            result_dict[shoe]['Heel_Style'] = heel_style"
   ]
  },
  {
   "cell_type": "code",
   "execution_count": 8,
   "metadata": {},
   "outputs": [
    {
     "name": "stdout",
     "output_type": "stream",
     "text": [
      "shoe1\n",
      "----------\n",
      "Stiletto\n",
      "High Heel\n",
      "\n",
      "shoe2\n",
      "----------\n",
      "Block\n",
      "Low Heel\n",
      "\n",
      "shoe3\n",
      "----------\n",
      "Cone\n",
      "Mid Heel\n",
      "\n"
     ]
    }
   ],
   "source": [
    "for shoe, attributes in result_dict.items():\n",
    "    print(shoe)\n",
    "    print('-' * 10)\n",
    "    print(attributes['Heel_Style'])\n",
    "    print(attributes['Heel_Height'])\n",
    "    print()"
   ]
  },
  {
   "cell_type": "code",
   "execution_count": null,
   "metadata": {},
   "outputs": [],
   "source": []
  }
 ],
 "metadata": {
  "kernelspec": {
   "display_name": "Python 3",
   "language": "python",
   "name": "python3"
  },
  "language_info": {
   "codemirror_mode": {
    "name": "ipython",
    "version": 3
   },
   "file_extension": ".py",
   "mimetype": "text/x-python",
   "name": "python",
   "nbconvert_exporter": "python",
   "pygments_lexer": "ipython3",
   "version": "3.6.3"
  }
 },
 "nbformat": 4,
 "nbformat_minor": 2
}
