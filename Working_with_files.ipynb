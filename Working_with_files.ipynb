{
 "cells": [
  {
   "cell_type": "code",
   "execution_count": 2,
   "metadata": {},
   "outputs": [],
   "source": [
    "import os"
   ]
  },
  {
   "cell_type": "code",
   "execution_count": 3,
   "metadata": {},
   "outputs": [],
   "source": [
    "os.chdir('text_files')"
   ]
  },
  {
   "cell_type": "code",
   "execution_count": 7,
   "metadata": {},
   "outputs": [],
   "source": [
    "def get_files():\n",
    "    \"\"\"Returns a list of all files in the current working directory.\"\"\"\n",
    "    return [x for x in os.listdir() if os.path.isfile(x)]"
   ]
  },
  {
   "cell_type": "code",
   "execution_count": 8,
   "metadata": {},
   "outputs": [
    {
     "data": {
      "text/plain": [
       "['Output', 'Description', 'shoe1.txt', 'shoe2.txt', 'shoe3.txt']"
      ]
     },
     "execution_count": 8,
     "metadata": {},
     "output_type": "execute_result"
    }
   ],
   "source": [
    "get_files()"
   ]
  },
  {
   "cell_type": "code",
   "execution_count": 12,
   "metadata": {},
   "outputs": [
    {
     "data": {
      "text/plain": [
       "['shoe1.txt', 'shoe2.txt', 'shoe3.txt']"
      ]
     },
     "execution_count": 12,
     "metadata": {},
     "output_type": "execute_result"
    }
   ],
   "source": [
    "files = [f for f in get_files() if f[-3:] == 'txt']\n",
    "files"
   ]
  },
  {
   "cell_type": "code",
   "execution_count": 17,
   "metadata": {},
   "outputs": [
    {
     "name": "stdout",
     "output_type": "stream",
     "text": [
      "shoe1.txt\n",
      "\n",
      "Details\n",
      "\n",
      "Sizing: True to size.\n",
      "\n",
      "\n",
      "\n",
      "- Peep toe\n",
      "\n",
      "- Back zip closure\n",
      "\n",
      "- Caged construction\n",
      "\n",
      "- Stiletto heel\n",
      "\n",
      "- Approx. 4\" heel\n",
      "\n",
      "- Imported\n",
      "\n",
      "Materials\n",
      "\n",
      "Synthetic upper, PU sole\n",
      "-------------------------------------------------------------------------------\n",
      "shoe2.txt\n",
      "\n",
      "Sizing: True to size. M=standard width \n",
      "\n",
      "\n",
      "\n",
      "- Open toe\n",
      "\n",
      "- Faux suede fabric construction \n",
      "\n",
      "- Ankle cuff with elastic inset\n",
      "\n",
      "- Back zip closure with tassel pull\n",
      "\n",
      "- Lightly padded footbed\n",
      "\n",
      "- Block heel \n",
      "\n",
      "- Approx. 1.5\" heel \n",
      "\n",
      "- Imported\n",
      "\n",
      "Materials\n",
      "\n",
      "Fabric upper, synthetic sole\n",
      "-------------------------------------------------------------------------------\n",
      "shoe3.txt\n",
      "\n",
      "- Open toe\n",
      "\n",
      "- Studded detail\n",
      "\n",
      "- Slip-on\n",
      "\n",
      "- Lightly padded footbed\n",
      "\n",
      "- Cone heel\n",
      "\n",
      "- Approx. 3\" heel\n",
      "\n",
      "- Imported\n",
      "\n",
      "Materials\n",
      "\n",
      "Faux suede upper, manmade sole\n",
      "-------------------------------------------------------------------------------\n"
     ]
    }
   ],
   "source": [
    "for f in files:\n",
    "    print(f)\n",
    "    print()\n",
    "    with open(f, 'r') as f_in:\n",
    "        filelines = f_in.readlines()\n",
    "    for ln in filelines:\n",
    "        print(ln)\n",
    "    print('-' * 79)"
   ]
  },
  {
   "cell_type": "code",
   "execution_count": null,
   "metadata": {},
   "outputs": [],
   "source": []
  }
 ],
 "metadata": {
  "kernelspec": {
   "display_name": "Python 3",
   "language": "python",
   "name": "python3"
  },
  "language_info": {
   "codemirror_mode": {
    "name": "ipython",
    "version": 3
   },
   "file_extension": ".py",
   "mimetype": "text/x-python",
   "name": "python",
   "nbconvert_exporter": "python",
   "pygments_lexer": "ipython3",
   "version": "3.6.3"
  }
 },
 "nbformat": 4,
 "nbformat_minor": 2
}
